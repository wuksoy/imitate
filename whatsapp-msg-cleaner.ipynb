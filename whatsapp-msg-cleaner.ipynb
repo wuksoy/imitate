{
 "cells": [
  {
   "cell_type": "code",
   "execution_count": 37,
   "metadata": {},
   "outputs": [],
   "source": [
    "# imports\n",
    "from __future__ import absolute_import, division, print_function, unicode_literals\n",
    "from datetime import datetime\n",
    "import pandas as pd\n",
    "import string\n",
    "import json\n",
    "import time\n",
    "import os\n",
    "import re"
   ]
  },
  {
   "cell_type": "code",
   "execution_count": 46,
   "metadata": {
    "tags": [
     "outputPrepend"
    ]
   },
   "outputs": [],
   "source": [
    "# WhatsApp Text Message Cleaner\n",
    "\n",
    "# open your WhatsApp Messages text file and create a new text file to save cleaned messages\n",
    "message_list =[]\n",
    "message_dict={}\n",
    "message_dict['messages'] = []\n",
    "f = open(\"messages/OMessages.txt\", \"r\", encoding=\"utf8\")\n",
    "final_message = open(\"messages/CleanWhatsAppMessages.txt\", \"w\", encoding=\"utf8\")\n",
    "\n",
    "while True:\n",
    "    msg = f.readline()\n",
    "\n",
    "    if not msg:\n",
    "        break\n",
    "    elif msg!='\\n':\n",
    "        raw_text = msg.strip()\n",
    "        \n",
    "        # ISSUE: datetime format is not JSON serializable\n",
    "        # process datetime of text\n",
    "        if len(raw_text)>3 and raw_text[2]=='/':\n",
    "            time= raw_text[0:20]\n",
    "            if time[-1] is \" \":\n",
    "                date = datetime.strptime(time, '%d/%m/%Y, %I:%M %p ')\n",
    "                time=time[0:-1]\n",
    "            else:\n",
    "                date = datetime.strptime(time, '%d/%m/%Y, %I:%M %p')\n",
    "        \n",
    "        \n",
    "\n",
    "        # clean and process actual text\n",
    "        raw_text = raw_text[22:]\n",
    "        remove_this = re.sub(\":\", \"\", string.punctuation)\n",
    "        raw_text = raw_text.lower()\n",
    "        raw_text = re.sub('[%s]' % remove_this, '', raw_text)\n",
    "        raw_text = raw_text.encode('ascii', 'ignore').decode('ascii')\n",
    "        raw_text = re.sub('\\w*\\d\\w*', '', raw_text)\n",
    "\n",
    "        \n",
    "        \n",
    "        # seperate date into user and text\n",
    "        text=raw_text[raw_text.find(\":\")+2:]\n",
    "        user=raw_text[:raw_text.find(\":\")]\n",
    "        p_user=user\n",
    "\n",
    "        \n",
    "        # ISSUE: current way for handling multiple consecutive texts from user\n",
    "        if len(user)>0 and user[0]==' ':\n",
    "            user=user[1:]\n",
    "        else:\n",
    "            user=p_user\n",
    "            \n",
    "        if text!='':\n",
    "            message_dict['messages'].append({\n",
    "                'user': user,\n",
    "                'message': text,\n",
    "                'time': time })\n",
    "\n",
    "\n",
    "with final_message as outfile:\n",
    "    json.dump(message_dict, outfile)\n",
    "final_message.close()\n",
    "f.close()"
   ]
  }
 ],
 "metadata": {
  "kernelspec": {
   "display_name": "Python 3",
   "language": "python",
   "name": "python3"
  },
  "language_info": {
   "codemirror_mode": {
    "name": "ipython",
    "version": 3
   },
   "file_extension": ".py",
   "mimetype": "text/x-python",
   "name": "python",
   "nbconvert_exporter": "python",
   "pygments_lexer": "ipython3",
   "version": "3.7.4"
  }
 },
 "nbformat": 4,
 "nbformat_minor": 2
}
