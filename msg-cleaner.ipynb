{
 "metadata": {
  "language_info": {
   "codemirror_mode": {
    "name": "ipython",
    "version": 3
   },
   "file_extension": ".py",
   "mimetype": "text/x-python",
   "name": "python",
   "nbconvert_exporter": "python",
   "pygments_lexer": "ipython3",
   "version": "3.7.4-final"
  },
  "orig_nbformat": 2,
  "kernelspec": {
   "name": "python3",
   "display_name": "Python 3",
   "language": "python"
  }
 },
 "nbformat": 4,
 "nbformat_minor": 2,
 "cells": [
  {
   "source": [
    "# imports\n",
    "from __future__ import absolute_import, division, print_function, unicode_literals\n",
    "from datetime import datetime\n",
    "import pandas as pd\n",
    "import string\n",
    "import json\n",
    "import time\n",
    "import os\n",
    "import re"
   ],
   "cell_type": "code",
   "metadata": {},
   "execution_count": null,
   "outputs": []
  },
  {
   "cell_type": "code",
   "execution_count": null,
   "metadata": {
    "tags": [
     "outputPrepend"
    ]
   },
   "outputs": [],
   "source": [
    "# WhatsApp Text Message Cleaner\n",
    "\n",
    "# open your WhatsApp Messages text file and create a new text file to save cleaned messages\n",
    "message_list =[]\n",
    "f = open(\"messages/OMessages.txt\", \"r\", encoding=\"utf8\")\n",
    "#final_message = open(\"messages/TestingMessages.txt\", \"a\", encoding=\"utf8\")\n",
    "\n",
    "while True:\n",
    "    msg = f.readline()\n",
    "\n",
    "    if not msg:\n",
    "        break\n",
    "    elif msg!='\\n':\n",
    "        raw_text = msg.strip()\n",
    "\n",
    "        # process datetime of text\n",
    "        if len(raw_text)>3 and raw_text[2]=='/':\n",
    "            time= raw_text[0:20]\n",
    "            try:\n",
    "                date = datetime.strptime(datetime_string, '%d/%m/%Y, %I:%M %p -')\n",
    "            except:\n",
    "                date = datetime.strptime(datetime_string, '%d/%m/%Y, %I:%M %p ')\n",
    "\n",
    "        # clean and process actual text\n",
    "        remove_this = re.sub(\":\", \"\", string.punctuation)\n",
    "        raw_text = raw_text.lower()\n",
    "        raw_text = re.sub('[%s]' % remove_this, '', raw_text)\n",
    "        raw_text = raw_text.encode('ascii', 'ignore').decode('ascii')\n",
    "        raw_text = re.sub('\\w*\\d\\w*', '', raw_text)\n",
    "        raw_text = raw_text[22:]\n",
    "        \n",
    "        # seperate date into user and text\n",
    "        text=raw_text[raw_text.find(\":\")+2:]\n",
    "        user=raw_text[:raw_text.find(\":\")]\n",
    "        p_user=user\n",
    "        # print(raw_text)\n",
    "        \n",
    "        # ISSUE: current way for handling multiple consecutive texts from user\n",
    "        if len(user)>0 and user[0]==' ':\n",
    "            user=user[1:]\n",
    "        else:\n",
    "            user=p_user\n",
    "        combine=[user, text]\n",
    "        \n",
    "        if combine[1]!='':\n",
    "            message_list.append(combine)\n",
    "\n",
    "        #final_message.write(raw_text)\n",
    "#final_message.close()\n",
    "#f.close()"
   ]
  }
 ]
}